{
 "cells": [
  {
   "cell_type": "code",
   "execution_count": null,
   "id": "285b9e69",
   "metadata": {},
   "outputs": [],
   "source": [
    "# BMI = (weight in pounds x 703) / (height in inches x height in inches)"
   ]
  },
  {
   "cell_type": "code",
   "execution_count": null,
   "id": "13f0daf5",
   "metadata": {},
   "outputs": [],
   "source": [
    "Under 18.5 --> Underweight -> Minimal\n",
    "    18.5 - 24.9 -> Normal Weight -->Minimal\n",
    "    25 - 29.9 -> Overweight --> Increased\n",
    "    30 - 34.9 --> Obese --> High\n",
    "    35 - 39.9 --> Severly Obese --> Very High\n",
    "    40 and  over -> Morbidly Obese--> Extremely High"
   ]
  },
  {
   "cell_type": "markdown",
   "id": "eb76fc43",
   "metadata": {},
   "source": [
    "# My BMI calculator"
   ]
  },
  {
   "cell_type": "code",
   "execution_count": 1,
   "id": "0faf3976",
   "metadata": {},
   "outputs": [
    {
     "name": "stdout",
     "output_type": "stream",
     "text": [
      "Enter your fucking name Loren\n",
      "Enter your weight in pounds: 101\n",
      "Enter your height in inches: 60\n",
      "19.723055555555554\n",
      "Loren, You are Normal Weight\n"
     ]
    }
   ],
   "source": [
    "name = input(\"Enter your fucking name \")\n",
    "\n",
    "weight = int(input(\"Enter your weight in pounds: \"))\n",
    "\n",
    "height = int(input(\"Enter your height in inches: \"))\n",
    "\n",
    "BMI = (weight * 703) / (height * height)\n",
    "print(BMI)\n",
    "\n",
    "if BMI >0:\n",
    "    if (BMI < 18.5):\n",
    "        print(name + \", You are underweight\")\n",
    "        \n",
    "    elif (BMI <= 24.9):\n",
    "        print(name + \", You are Normal Weight\")\n",
    "        \n",
    "    elif (BMI <= 29.9):\n",
    "        print(name + \", You are Overweight\")\n",
    "        \n",
    "    elif (BMI <= 34.9):\n",
    "        print(name + \", You are Obese --> High\")\n",
    "        \n",
    "    elif (BMI <= 39.9):\n",
    "        print(name + \", You are Severly Obese Very High\")\n",
    "        \n",
    "    elif (BMI <= 40):\n",
    "        print(name + \", You are Morbidly Obese --> Extremely High\")\n",
    "                \n",
    "    else:\n",
    "        print(name + \", You're fucking Pig\")\n",
    "     "
   ]
  },
  {
   "cell_type": "code",
   "execution_count": null,
   "id": "d0c57f4e",
   "metadata": {},
   "outputs": [],
   "source": []
  }
 ],
 "metadata": {
  "kernelspec": {
   "display_name": "Python 3 (ipykernel)",
   "language": "python",
   "name": "python3"
  },
  "language_info": {
   "codemirror_mode": {
    "name": "ipython",
    "version": 3
   },
   "file_extension": ".py",
   "mimetype": "text/x-python",
   "name": "python",
   "nbconvert_exporter": "python",
   "pygments_lexer": "ipython3",
   "version": "3.9.13"
  }
 },
 "nbformat": 4,
 "nbformat_minor": 5
}
